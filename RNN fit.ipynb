{
 "cells": [
  {
   "cell_type": "code",
   "execution_count": 1,
   "metadata": {},
   "outputs": [
    {
     "name": "stderr",
     "output_type": "stream",
     "text": [
      "Using TensorFlow backend.\n"
     ]
    }
   ],
   "source": [
    "import numpy as np \n",
    "import pandas as pd \n",
    "import os\n",
    "import gc\n",
    "import psutil\n",
    "\n",
    "from sklearn.model_selection import train_test_split\n",
    "from sklearn.metrics import roc_auc_score\n",
    "from sklearn.model_selection import StratifiedKFold\n",
    "\n",
    "from keras.models import Model\n",
    "from keras.layers import Input, Dropout, Dense, Embedding, SpatialDropout1D, concatenate\n",
    "from keras.layers import GRU, Bidirectional, GlobalAveragePooling1D, GlobalMaxPooling1D, BatchNormalization, Conv1D, MaxPooling1D, Flatten\n",
    "from keras.preprocessing.sequence import pad_sequences\n",
    "from keras.preprocessing import text, sequence\n",
    "from keras.callbacks import Callback\n",
    "from keras import backend as K\n",
    "from keras.models import Model\n",
    "\n",
    "from keras import optimizers\n",
    "\n",
    "from sklearn.preprocessing import LabelBinarizer\n",
    "from sklearn.preprocessing import LabelEncoder, MinMaxScaler, StandardScaler\n",
    "\n",
    "import warnings\n",
    "warnings.filterwarnings('ignore')\n",
    "\n",
    "from keras import backend as K\n",
    "from keras.optimizers import RMSprop, Adam\n",
    "from keras.callbacks import ModelCheckpoint, EarlyStopping"
   ]
  },
  {
   "cell_type": "code",
   "execution_count": 2,
   "metadata": {},
   "outputs": [],
   "source": [
    "def RNN_model():\n",
    "\n",
    "    ##Inputs\n",
    "    #text\n",
    "    title = Input(shape=[16], name=\"title\")\n",
    "    description = Input(shape=[128], name=\"description\")\n",
    "    #category        \n",
    "    parent_category_name=Input(shape=[1], name=\"parent_category_name\")\n",
    "    category_name=Input(shape=[1], name=\"category_name\")\n",
    "    param_1 = Input(shape=[1], name=\"param_1\")\n",
    "    param123 = Input(shape=[1], name=\"param123\")\n",
    "    image_top_1 = Input(shape=[1], name=\"image_top_1\")\n",
    "    cluster_5 = Input(shape=[1], name=\"cluster_5\")\n",
    "    cluster_10 = Input(shape=[1], name=\"cluster_10\")\n",
    "    cluster_20 = Input(shape=[1], name=\"cluster_20\")\n",
    "    user_type = Input(shape=[1], name=\"user_type\")\n",
    "    activation_date = Input(shape=[1], name=\"activation_date\")\n",
    "    #numerical\n",
    "    #'para_num','item_seq_number',   \n",
    "    #'deal_prob_avg', 'deal_prob_avg_par', 'count_avg', 'count_avg_par',\n",
    "    #'dis_days', 'edit_time', 'item_num',\n",
    "    #'count',  'cus', 'ship', 'r_cus', 'r_ship', 'all_cus', \n",
    "    #'avg_r','avg_g', 'avg_b', 'blurrness', 'dullness', 'whiteness',\n",
    "    #'avg_pixel_width', 'width', 'height', 'size', \n",
    "    #'resnet_1', 'resnet_3','resnet_5', 'resnet_ratio1', 'resnet_ratio2', \n",
    "    #'incept_1', 'incept_3','incept_5', 'incept_ratio1', 'incept_ratio2', \n",
    "    #'xcept_1', 'xcept_3','xcept_5', 'xcept_ratio1', 'xcept_ratio2',\n",
    "    #'description_num_words','description_num_unique_words','description_words_vs_unique',\n",
    "    #'title_num_words','title_num_unique_words','title_words_vs_unique',\n",
    "    #'price'\n",
    "    numerical= Input(shape=[47], name=\"numerical\")\n",
    "    \n",
    "    \n",
    "    #Embeddings layers\n",
    "    vocab_size=200001\n",
    "    EMBEDDING_DIM1=300\n",
    "    emb_title = Embedding(vocab_size, EMBEDDING_DIM1, weights = [embedding_matrix1], \n",
    "                                          trainable = False)(title)\n",
    "    emb_description = Embedding(vocab_size, EMBEDDING_DIM1, weights = [embedding_matrix1], \n",
    "                                          trainable = False)(description)\n",
    "    emb_category_name = Embedding(48, 5)(category_name)\n",
    "    emb_parent_category_name = Embedding(10, 5)(parent_category_name)\n",
    "    emb_param_1 = Embedding(373, 3)(param_1)\n",
    "    emb_param123 = Embedding(2402, 3)(param123)\n",
    "    emb_image_top_1 = Embedding(3065, 3)(image_top_1)    \n",
    "    emb_cluster_5 = Embedding(68, 3)(cluster_5)\n",
    "    emb_cluster_10 = Embedding(47, 3)(cluster_10)\n",
    "    emb_cluster_20 = Embedding(24, 3)(cluster_20)\n",
    "    emb_user_type = Embedding(4, 5)(user_type)\n",
    "    emb_activation_date = Embedding(8, 3)(activation_date)\n",
    "       \n",
    "\n",
    "    rnn_layer1 = GRU(8) (emb_title)\n",
    "    rnn_layer2 = GRU(8) (emb_description)\n",
    "    \n",
    "    \n",
    "    \n",
    "    #main layer\n",
    "    main_l = concatenate([rnn_layer1,rnn_layer2, \n",
    "                          Flatten() (emb_category_name), \n",
    "                          Flatten() (emb_parent_category_name), \n",
    "                          Flatten() (emb_param_1), \n",
    "                          Flatten() (emb_param123), \n",
    "                          Flatten() (emb_image_top_1), \n",
    "                          Flatten() (emb_cluster_5), \n",
    "                          Flatten() (emb_cluster_10), \n",
    "                          Flatten() (emb_cluster_20), \n",
    "                          Flatten() (emb_user_type), \n",
    "                          Flatten() (emb_activation_date), \n",
    "                          numerical])\n",
    "    out_rnn=concatenate([rnn_layer1,rnn_layer2])\n",
    "    \n",
    "    main_l = Dropout(0.30)(Dense(64,activation='relu') (main_l))\n",
    "    main_l = Dropout(0.30)(Dense(32,activation='relu') (main_l))\n",
    "    main_l = Dropout(0.30)(Dense(16,activation='relu') (main_l))\n",
    "    main_l = Dense(4,activation='relu') (main_l)\n",
    "    \n",
    "    #output\n",
    "    output = Dense(1,activation=\"sigmoid\") (main_l)\n",
    "    \n",
    "    #model\n",
    "    \n",
    "    model = Model(inputs=[title, description, parent_category_name, category_name, param_1, param123, image_top_1, \n",
    "                         cluster_5, cluster_10, cluster_20, user_type, activation_date, numerical],\n",
    "                  outputs=[output, out_rnn])\n",
    "    model.compile(optimizer = 'adam', loss= root_mean_squared_error, metrics = [root_mean_squared_error],loss_weights=[1.0,0.0])\n",
    "    return model\n",
    "\n",
    "def root_mean_squared_error(y_true, y_pred):\n",
    "    return K.sqrt(K.mean(K.square(y_true - y_pred))) "
   ]
  },
  {
   "cell_type": "code",
   "execution_count": 3,
   "metadata": {},
   "outputs": [
    {
     "name": "stdout",
     "output_type": "stream",
     "text": [
      "['embedding_matrix1.npy', 'testfinal.csv', 'testready.csv', 'testtemp.csv', 'trainfinal.csv', 'trainready.csv', 'traintemp.csv']\n"
     ]
    }
   ],
   "source": [
    "print(os.listdir('E:\\\\kaggle\\\\Avito Demand Prediction Challenge\\\\features\\\\dataset\\\\'))"
   ]
  },
  {
   "cell_type": "code",
   "execution_count": 4,
   "metadata": {},
   "outputs": [],
   "source": [
    "\n",
    "def get_keras_data(data1,data2,data3):\n",
    "    title=[]\n",
    "    for i in list(data1.title):\n",
    "        title.append(list(eval(i)))\n",
    "    description=[]\n",
    "    for i in list(data1.description):\n",
    "        description.append(list(eval(i)))\n",
    "    \n",
    "    title=pad_sequences(title, maxlen=16)\n",
    "    description=pad_sequences(description, maxlen=128)\n",
    "    parent_category_name=np.array(data2.parent_category_name)\n",
    "    category_name=np.array(data2.category_name)\n",
    "    param_1=np.array(data2.param_1)\n",
    "    param123=np.array(data2.param123)\n",
    "    image_top_1=np.array(data2.image_top_1)\n",
    "    cluster_5=np.array(data2.cluster_5)\n",
    "    cluster_10=np.array(data2.cluster_10)\n",
    "    cluster_20=np.array(data2.cluster_20)\n",
    "    user_type=np.array(data2.user_type)\n",
    "    activation_date=np.array(data2.activation_date)\n",
    "    numerical=np.array(data3)\n",
    "    \n",
    "    \n",
    "    output=np.array(data2.deal_probability)\n",
    "    out_rnn=np.zeros((len(data1), 16))\n",
    "    \n",
    "    print(\"Data ready for Vectorization\")\n",
    "    \n",
    "    X=[title, description, parent_category_name, category_name, param_1, param123, image_top_1,cluster_5, cluster_10, cluster_20, user_type, activation_date, numerical]\n",
    "    Y=[output, out_rnn]\n",
    "    return (X,Y)"
   ]
  },
  {
   "cell_type": "code",
   "execution_count": 5,
   "metadata": {
    "scrolled": true
   },
   "outputs": [
    {
     "name": "stdout",
     "output_type": "stream",
     "text": [
      "Data ready for Vectorization\n",
      "Data ready for Vectorization\n"
     ]
    },
    {
     "data": {
      "text/plain": [
       "21"
      ]
     },
     "execution_count": 5,
     "metadata": {},
     "output_type": "execute_result"
    }
   ],
   "source": [
    "columns1=['title', 'description']\n",
    "columns2=['parent_category_name','category_name', 'user_type','activation_date',\n",
    "         'param_1', 'param123','image_top_1','cluster_5', 'cluster_10','cluster_20','deal_probability']\n",
    "columns3=['para_num','item_seq_number',   \n",
    "         'deal_prob_avg', 'deal_prob_avg_par', 'count_avg', 'count_avg_par',\n",
    "         'dis_days', 'edit_time', 'item_num',\n",
    "         'count',  'cus', 'ship', 'r_cus', 'r_ship', 'all_cus', \n",
    "         'avg_r','avg_g', 'avg_b', 'blurrness', 'dullness', 'whiteness',\n",
    "         'avg_pixel_width', 'width', 'height', 'size', \n",
    "         'resnet_1', 'resnet_3','resnet_5', 'resnet_ratio1', 'resnet_ratio2', \n",
    "         'incept_1', 'incept_3','incept_5', 'incept_ratio1', 'incept_ratio2', \n",
    "         'xcept_1', 'xcept_3','xcept_5', 'xcept_ratio1', 'xcept_ratio2',\n",
    "         'description_num_words','description_num_unique_words','description_words_vs_unique',\n",
    "         'title_num_words','title_num_unique_words','title_words_vs_unique',\n",
    "         'price']\n",
    "path='E:\\\\kaggle\\\\Avito Demand Prediction Challenge\\\\features\\\\dataset\\\\'\n",
    "data1=pd.read_csv(path+'trainfinal.csv',header=0,skipinitialspace=True, usecols=columns1)\n",
    "data2=pd.read_csv(path+'trainfinal.csv',header=0,skipinitialspace=True, usecols=columns2)\n",
    "data3=pd.read_csv(path+'trainfinal.csv',header=0,skipinitialspace=True, usecols=columns3)\n",
    "\n",
    "from sklearn.model_selection import train_test_split\n",
    "from sklearn.model_selection import KFold\n",
    "\n",
    "skf = KFold(n_splits = 5, shuffle=True,random_state=123456789)\n",
    "count=0\n",
    "#seed=np.random.randint(0,10)\n",
    "seed=1\n",
    "for train_idx, test_idx in skf.split(data3, data2.deal_probability):\n",
    "    if count==seed:\n",
    "        train_id=train_idx\n",
    "        test_id=test_idx\n",
    "    count=count+1\n",
    "        \n",
    "gc.collect()\n",
    "\n",
    "data1_train, data1_test = data1.ix[train_id], data1.ix[test_id]\n",
    "data2_train, data2_test = data2.ix[train_id], data2.ix[test_id]\n",
    "data3_train, data3_test = data3.ix[train_id], data3.ix[test_id]\n",
    "del data1,data2,data3\n",
    "gc.collect()\n",
    "\n",
    "X_train, Y_train = get_keras_data(data1_train,data2_train,data3_train)\n",
    "X_test, Y_test = get_keras_data(data1_test,data2_test,data3_test)\n",
    "\n",
    "\n",
    "del data1_train,data2_train,data3_train,data1_test,data2_test,data3_test\n",
    "\n",
    "gc.collect()\n"
   ]
  },
  {
   "cell_type": "code",
   "execution_count": 6,
   "metadata": {},
   "outputs": [
    {
     "data": {
      "text/plain": [
       "3"
      ]
     },
     "execution_count": 6,
     "metadata": {},
     "output_type": "execute_result"
    }
   ],
   "source": [
    "path='E:\\\\kaggle\\\\Avito Demand Prediction Challenge\\\\features\\\\dataset\\\\'\n",
    "embedding_matrix1=np.load(path+'embedding_matrix1.npy')\n",
    "gc.collect()\n"
   ]
  },
  {
   "cell_type": "code",
   "execution_count": 7,
   "metadata": {},
   "outputs": [],
   "source": [
    "exp_decay = lambda init, fin, steps: (init/fin)**(1/(steps-1)) - 1\n",
    "\n",
    "epochs = 50\n",
    "batch_size = 4096\n",
    "steps = ((len(Y_train[0]))/batch_size)*epochs\n",
    "lr_init, lr_fin = 0.005, 0.00000005\n",
    "lr_decay = exp_decay(lr_init, lr_fin, steps)\n",
    "modelRNN = RNN_model()\n",
    "K.set_value(modelRNN.optimizer.lr, lr_init)\n",
    "K.set_value(modelRNN.optimizer.decay, lr_decay)"
   ]
  },
  {
   "cell_type": "code",
   "execution_count": null,
   "metadata": {
    "scrolled": false
   },
   "outputs": [
    {
     "name": "stdout",
     "output_type": "stream",
     "text": [
      "Train on 1202739 samples, validate on 300685 samples\n",
      "Epoch 1/50\n",
      "1202739/1202739 [==============================] - 98s 82us/step - loss: 0.2440 - dense_5_loss: 0.2440 - concatenate_2_loss: 0.2909 - dense_5_root_mean_squared_error: 0.2440 - concatenate_2_root_mean_squared_error: 0.2909 - val_loss: 0.2294 - val_dense_5_loss: 0.2294 - val_concatenate_2_loss: 0.2918 - val_dense_5_root_mean_squared_error: 0.2294 - val_concatenate_2_root_mean_squared_error: 0.2918\n",
      "Epoch 2/50\n",
      "1202739/1202739 [==============================] - 97s 80us/step - loss: 0.2298 - dense_5_loss: 0.2298 - concatenate_2_loss: 0.2872 - dense_5_root_mean_squared_error: 0.2298 - concatenate_2_root_mean_squared_error: 0.2872 - val_loss: 0.2306 - val_dense_5_loss: 0.2306 - val_concatenate_2_loss: 0.2900 - val_dense_5_root_mean_squared_error: 0.2306 - val_concatenate_2_root_mean_squared_error: 0.2900\n",
      "Epoch 3/50\n",
      "1202739/1202739 [==============================] - 97s 80us/step - loss: 0.2280 - dense_5_loss: 0.2280 - concatenate_2_loss: 0.2873 - dense_5_root_mean_squared_error: 0.2280 - concatenate_2_root_mean_squared_error: 0.2873 - val_loss: 0.2323 - val_dense_5_loss: 0.2323 - val_concatenate_2_loss: 0.2851 - val_dense_5_root_mean_squared_error: 0.2323 - val_concatenate_2_root_mean_squared_error: 0.2851\n",
      "Epoch 4/50\n",
      "1202739/1202739 [==============================] - 97s 80us/step - loss: 0.2268 - dense_5_loss: 0.2268 - concatenate_2_loss: 0.2920 - dense_5_root_mean_squared_error: 0.2268 - concatenate_2_root_mean_squared_error: 0.2920 - val_loss: 0.2296 - val_dense_5_loss: 0.2296 - val_concatenate_2_loss: 0.2951 - val_dense_5_root_mean_squared_error: 0.2296 - val_concatenate_2_root_mean_squared_error: 0.2951\n",
      "Epoch 5/50\n",
      "1202739/1202739 [==============================] - 97s 81us/step - loss: 0.2261 - dense_5_loss: 0.2261 - concatenate_2_loss: 0.2961 - dense_5_root_mean_squared_error: 0.2261 - concatenate_2_root_mean_squared_error: 0.2961 - val_loss: 0.2293 - val_dense_5_loss: 0.2293 - val_concatenate_2_loss: 0.2944 - val_dense_5_root_mean_squared_error: 0.2293 - val_concatenate_2_root_mean_squared_error: 0.2944\n",
      "Epoch 6/50\n",
      "1202739/1202739 [==============================] - 97s 81us/step - loss: 0.2255 - dense_5_loss: 0.2255 - concatenate_2_loss: 0.2936 - dense_5_root_mean_squared_error: 0.2255 - concatenate_2_root_mean_squared_error: 0.2936 - val_loss: 0.2276 - val_dense_5_loss: 0.2276 - val_concatenate_2_loss: 0.2959 - val_dense_5_root_mean_squared_error: 0.2276 - val_concatenate_2_root_mean_squared_error: 0.2959\n",
      "Epoch 7/50\n",
      "1202739/1202739 [==============================] - 97s 80us/step - loss: 0.2250 - dense_5_loss: 0.2250 - concatenate_2_loss: 0.2952 - dense_5_root_mean_squared_error: 0.2250 - concatenate_2_root_mean_squared_error: 0.2952 - val_loss: 0.2300 - val_dense_5_loss: 0.2300 - val_concatenate_2_loss: 0.2967 - val_dense_5_root_mean_squared_error: 0.2300 - val_concatenate_2_root_mean_squared_error: 0.2967\n",
      "Epoch 8/50\n",
      "1202739/1202739 [==============================] - 97s 81us/step - loss: 0.2243 - dense_5_loss: 0.2243 - concatenate_2_loss: 0.2973 - dense_5_root_mean_squared_error: 0.2243 - concatenate_2_root_mean_squared_error: 0.2973 - val_loss: 0.2309 - val_dense_5_loss: 0.2309 - val_concatenate_2_loss: 0.2998 - val_dense_5_root_mean_squared_error: 0.2309 - val_concatenate_2_root_mean_squared_error: 0.2998\n",
      "Epoch 9/50\n",
      "1202739/1202739 [==============================] - 97s 80us/step - loss: 0.2238 - dense_5_loss: 0.2238 - concatenate_2_loss: 0.2988 - dense_5_root_mean_squared_error: 0.2238 - concatenate_2_root_mean_squared_error: 0.2988 - val_loss: 0.2292 - val_dense_5_loss: 0.2292 - val_concatenate_2_loss: 0.2970 - val_dense_5_root_mean_squared_error: 0.2292 - val_concatenate_2_root_mean_squared_error: 0.2970\n",
      "Epoch 10/50\n",
      "1202739/1202739 [==============================] - 97s 80us/step - loss: 0.2235 - dense_5_loss: 0.2235 - concatenate_2_loss: 0.2997 - dense_5_root_mean_squared_error: 0.2235 - concatenate_2_root_mean_squared_error: 0.2997 - val_loss: 0.2292 - val_dense_5_loss: 0.2292 - val_concatenate_2_loss: 0.3057 - val_dense_5_root_mean_squared_error: 0.2292 - val_concatenate_2_root_mean_squared_error: 0.3057\n",
      "Epoch 11/50\n",
      "1202739/1202739 [==============================] - 97s 80us/step - loss: 0.2230 - dense_5_loss: 0.2230 - concatenate_2_loss: 0.3022 - dense_5_root_mean_squared_error: 0.2230 - concatenate_2_root_mean_squared_error: 0.3022 - val_loss: 0.2282 - val_dense_5_loss: 0.2282 - val_concatenate_2_loss: 0.3072 - val_dense_5_root_mean_squared_error: 0.2282 - val_concatenate_2_root_mean_squared_error: 0.3072\n",
      "Epoch 12/50\n",
      "1202739/1202739 [==============================] - 97s 80us/step - loss: 0.2226 - dense_5_loss: 0.2226 - concatenate_2_loss: 0.3004 - dense_5_root_mean_squared_error: 0.2226 - concatenate_2_root_mean_squared_error: 0.3004 - val_loss: 0.2320 - val_dense_5_loss: 0.2320 - val_concatenate_2_loss: 0.2928 - val_dense_5_root_mean_squared_error: 0.2320 - val_concatenate_2_root_mean_squared_error: 0.2928\n",
      "Epoch 13/50\n",
      "1202739/1202739 [==============================] - 97s 81us/step - loss: 0.2221 - dense_5_loss: 0.2221 - concatenate_2_loss: 0.2975 - dense_5_root_mean_squared_error: 0.2221 - concatenate_2_root_mean_squared_error: 0.2975 - val_loss: 0.2298 - val_dense_5_loss: 0.2298 - val_concatenate_2_loss: 0.3063 - val_dense_5_root_mean_squared_error: 0.2298 - val_concatenate_2_root_mean_squared_error: 0.3063\n",
      "Epoch 14/50\n",
      "1202739/1202739 [==============================] - 97s 80us/step - loss: 0.2218 - dense_5_loss: 0.2218 - concatenate_2_loss: 0.2993 - dense_5_root_mean_squared_error: 0.2218 - concatenate_2_root_mean_squared_error: 0.2993 - val_loss: 0.2290 - val_dense_5_loss: 0.2290 - val_concatenate_2_loss: 0.2999 - val_dense_5_root_mean_squared_error: 0.2290 - val_concatenate_2_root_mean_squared_error: 0.2999\n",
      "Epoch 15/50\n",
      "1202739/1202739 [==============================] - 96s 80us/step - loss: 0.2212 - dense_5_loss: 0.2212 - concatenate_2_loss: 0.2978 - dense_5_root_mean_squared_error: 0.2212 - concatenate_2_root_mean_squared_error: 0.2978 - val_loss: 0.2343 - val_dense_5_loss: 0.2343 - val_concatenate_2_loss: 0.3039 - val_dense_5_root_mean_squared_error: 0.2343 - val_concatenate_2_root_mean_squared_error: 0.3039\n",
      "Epoch 16/50\n",
      "1202739/1202739 [==============================] - 98s 81us/step - loss: 0.2209 - dense_5_loss: 0.2209 - concatenate_2_loss: 0.2994 - dense_5_root_mean_squared_error: 0.2209 - concatenate_2_root_mean_squared_error: 0.2994 - val_loss: 0.2297 - val_dense_5_loss: 0.2297 - val_concatenate_2_loss: 0.3035 - val_dense_5_root_mean_squared_error: 0.2297 - val_concatenate_2_root_mean_squared_error: 0.3035\n",
      "Epoch 17/50\n",
      "1202739/1202739 [==============================] - 98s 82us/step - loss: 0.2208 - dense_5_loss: 0.2208 - concatenate_2_loss: 0.3009 - dense_5_root_mean_squared_error: 0.2208 - concatenate_2_root_mean_squared_error: 0.3009 - val_loss: 0.2320 - val_dense_5_loss: 0.2320 - val_concatenate_2_loss: 0.3017 - val_dense_5_root_mean_squared_error: 0.2320 - val_concatenate_2_root_mean_squared_error: 0.3017\n",
      "Epoch 18/50\n",
      "1202739/1202739 [==============================] - 98s 82us/step - loss: 0.2204 - dense_5_loss: 0.2204 - concatenate_2_loss: 0.3050 - dense_5_root_mean_squared_error: 0.2204 - concatenate_2_root_mean_squared_error: 0.3050 - val_loss: 0.2262 - val_dense_5_loss: 0.2262 - val_concatenate_2_loss: 0.3069 - val_dense_5_root_mean_squared_error: 0.2262 - val_concatenate_2_root_mean_squared_error: 0.3069\n",
      "Epoch 19/50\n",
      "1202739/1202739 [==============================] - 98s 81us/step - loss: 0.2201 - dense_5_loss: 0.2201 - concatenate_2_loss: 0.3063 - dense_5_root_mean_squared_error: 0.2201 - concatenate_2_root_mean_squared_error: 0.3063 - val_loss: 0.2267 - val_dense_5_loss: 0.2267 - val_concatenate_2_loss: 0.3078 - val_dense_5_root_mean_squared_error: 0.2267 - val_concatenate_2_root_mean_squared_error: 0.3078\n",
      "Epoch 20/50\n",
      "1202739/1202739 [==============================] - 96s 80us/step - loss: 0.2201 - dense_5_loss: 0.2201 - concatenate_2_loss: 0.3082 - dense_5_root_mean_squared_error: 0.2201 - concatenate_2_root_mean_squared_error: 0.3082 - val_loss: 0.2306 - val_dense_5_loss: 0.2306 - val_concatenate_2_loss: 0.3085 - val_dense_5_root_mean_squared_error: 0.2306 - val_concatenate_2_root_mean_squared_error: 0.3085\n"
     ]
    },
    {
     "name": "stdout",
     "output_type": "stream",
     "text": [
      "Epoch 21/50\n",
      "1202739/1202739 [==============================] - 96s 80us/step - loss: 0.2197 - dense_5_loss: 0.2197 - concatenate_2_loss: 0.3076 - dense_5_root_mean_squared_error: 0.2197 - concatenate_2_root_mean_squared_error: 0.3076 - val_loss: 0.2259 - val_dense_5_loss: 0.2259 - val_concatenate_2_loss: 0.3074 - val_dense_5_root_mean_squared_error: 0.2259 - val_concatenate_2_root_mean_squared_error: 0.3074\n",
      "Epoch 22/50\n",
      "1202739/1202739 [==============================] - 96s 80us/step - loss: 0.2196 - dense_5_loss: 0.2196 - concatenate_2_loss: 0.3083 - dense_5_root_mean_squared_error: 0.2196 - concatenate_2_root_mean_squared_error: 0.3083 - val_loss: 0.2297 - val_dense_5_loss: 0.2297 - val_concatenate_2_loss: 0.3087 - val_dense_5_root_mean_squared_error: 0.2297 - val_concatenate_2_root_mean_squared_error: 0.3087\n",
      "Epoch 23/50\n",
      "1202739/1202739 [==============================] - 96s 80us/step - loss: 0.2192 - dense_5_loss: 0.2192 - concatenate_2_loss: 0.3090 - dense_5_root_mean_squared_error: 0.2192 - concatenate_2_root_mean_squared_error: 0.3090 - val_loss: 0.2276 - val_dense_5_loss: 0.2276 - val_concatenate_2_loss: 0.3102 - val_dense_5_root_mean_squared_error: 0.2276 - val_concatenate_2_root_mean_squared_error: 0.3102\n",
      "Epoch 24/50\n",
      "1202739/1202739 [==============================] - 96s 80us/step - loss: 0.2190 - dense_5_loss: 0.2190 - concatenate_2_loss: 0.3096 - dense_5_root_mean_squared_error: 0.2190 - concatenate_2_root_mean_squared_error: 0.3096 - val_loss: 0.2303 - val_dense_5_loss: 0.2303 - val_concatenate_2_loss: 0.3054 - val_dense_5_root_mean_squared_error: 0.2303 - val_concatenate_2_root_mean_squared_error: 0.3054\n",
      "Epoch 25/50\n",
      "1202739/1202739 [==============================] - 96s 80us/step - loss: 0.2189 - dense_5_loss: 0.2189 - concatenate_2_loss: 0.3102 - dense_5_root_mean_squared_error: 0.2189 - concatenate_2_root_mean_squared_error: 0.3102 - val_loss: 0.2256 - val_dense_5_loss: 0.2256 - val_concatenate_2_loss: 0.3118 - val_dense_5_root_mean_squared_error: 0.2256 - val_concatenate_2_root_mean_squared_error: 0.3118\n",
      "Epoch 26/50\n",
      "1202739/1202739 [==============================] - 96s 79us/step - loss: 0.2186 - dense_5_loss: 0.2186 - concatenate_2_loss: 0.3124 - dense_5_root_mean_squared_error: 0.2186 - concatenate_2_root_mean_squared_error: 0.3124 - val_loss: 0.2313 - val_dense_5_loss: 0.2313 - val_concatenate_2_loss: 0.3114 - val_dense_5_root_mean_squared_error: 0.2313 - val_concatenate_2_root_mean_squared_error: 0.3114\n",
      "Epoch 27/50\n",
      "1202739/1202739 [==============================] - 95s 79us/step - loss: 0.2185 - dense_5_loss: 0.2185 - concatenate_2_loss: 0.3143 - dense_5_root_mean_squared_error: 0.2185 - concatenate_2_root_mean_squared_error: 0.3143 - val_loss: 0.2279 - val_dense_5_loss: 0.2279 - val_concatenate_2_loss: 0.3189 - val_dense_5_root_mean_squared_error: 0.2279 - val_concatenate_2_root_mean_squared_error: 0.3189\n",
      "Epoch 28/50\n",
      "1202739/1202739 [==============================] - 96s 80us/step - loss: 0.2185 - dense_5_loss: 0.2185 - concatenate_2_loss: 0.3147 - dense_5_root_mean_squared_error: 0.2185 - concatenate_2_root_mean_squared_error: 0.3147 - val_loss: 0.2295 - val_dense_5_loss: 0.2295 - val_concatenate_2_loss: 0.3154 - val_dense_5_root_mean_squared_error: 0.2295 - val_concatenate_2_root_mean_squared_error: 0.3154\n",
      "Epoch 29/50\n",
      "1202739/1202739 [==============================] - 96s 80us/step - loss: 0.2184 - dense_5_loss: 0.2184 - concatenate_2_loss: 0.3179 - dense_5_root_mean_squared_error: 0.2184 - concatenate_2_root_mean_squared_error: 0.3179 - val_loss: 0.2276 - val_dense_5_loss: 0.2276 - val_concatenate_2_loss: 0.3238 - val_dense_5_root_mean_squared_error: 0.2276 - val_concatenate_2_root_mean_squared_error: 0.3238\n",
      "Epoch 30/50\n",
      "1202739/1202739 [==============================] - 95s 79us/step - loss: 0.2183 - dense_5_loss: 0.2183 - concatenate_2_loss: 0.3190 - dense_5_root_mean_squared_error: 0.2183 - concatenate_2_root_mean_squared_error: 0.3190 - val_loss: 0.2289 - val_dense_5_loss: 0.2289 - val_concatenate_2_loss: 0.3244 - val_dense_5_root_mean_squared_error: 0.2289 - val_concatenate_2_root_mean_squared_error: 0.3244\n",
      "Epoch 31/50\n",
      "1202739/1202739 [==============================] - 95s 79us/step - loss: 0.2181 - dense_5_loss: 0.2181 - concatenate_2_loss: 0.3196 - dense_5_root_mean_squared_error: 0.2181 - concatenate_2_root_mean_squared_error: 0.3196 - val_loss: 0.2278 - val_dense_5_loss: 0.2278 - val_concatenate_2_loss: 0.3186 - val_dense_5_root_mean_squared_error: 0.2278 - val_concatenate_2_root_mean_squared_error: 0.3186\n",
      "Epoch 32/50\n",
      "1202739/1202739 [==============================] - 96s 79us/step - loss: 0.2180 - dense_5_loss: 0.2180 - concatenate_2_loss: 0.3192 - dense_5_root_mean_squared_error: 0.2180 - concatenate_2_root_mean_squared_error: 0.3192 - val_loss: 0.2273 - val_dense_5_loss: 0.2273 - val_concatenate_2_loss: 0.3194 - val_dense_5_root_mean_squared_error: 0.2273 - val_concatenate_2_root_mean_squared_error: 0.3194\n",
      "Epoch 33/50\n",
      "1202739/1202739 [==============================] - 96s 80us/step - loss: 0.2176 - dense_5_loss: 0.2176 - concatenate_2_loss: 0.3218 - dense_5_root_mean_squared_error: 0.2176 - concatenate_2_root_mean_squared_error: 0.3218 - val_loss: 0.2290 - val_dense_5_loss: 0.2290 - val_concatenate_2_loss: 0.3193 - val_dense_5_root_mean_squared_error: 0.2290 - val_concatenate_2_root_mean_squared_error: 0.3193\n",
      "Epoch 34/50\n",
      "1202739/1202739 [==============================] - 96s 80us/step - loss: 0.2176 - dense_5_loss: 0.2176 - concatenate_2_loss: 0.3213 - dense_5_root_mean_squared_error: 0.2176 - concatenate_2_root_mean_squared_error: 0.3213 - val_loss: 0.2266 - val_dense_5_loss: 0.2266 - val_concatenate_2_loss: 0.3246 - val_dense_5_root_mean_squared_error: 0.2266 - val_concatenate_2_root_mean_squared_error: 0.3246\n",
      "Epoch 35/50\n",
      "1202739/1202739 [==============================] - 96s 79us/step - loss: 0.2177 - dense_5_loss: 0.2177 - concatenate_2_loss: 0.3237 - dense_5_root_mean_squared_error: 0.2177 - concatenate_2_root_mean_squared_error: 0.3237 - val_loss: 0.2288 - val_dense_5_loss: 0.2288 - val_concatenate_2_loss: 0.3246 - val_dense_5_root_mean_squared_error: 0.2288 - val_concatenate_2_root_mean_squared_error: 0.3246\n",
      "Epoch 36/50\n",
      "1202739/1202739 [==============================] - 95s 79us/step - loss: 0.2174 - dense_5_loss: 0.2174 - concatenate_2_loss: 0.3262 - dense_5_root_mean_squared_error: 0.2174 - concatenate_2_root_mean_squared_error: 0.3262 - val_loss: 0.2273 - val_dense_5_loss: 0.2273 - val_concatenate_2_loss: 0.3209 - val_dense_5_root_mean_squared_error: 0.2273 - val_concatenate_2_root_mean_squared_error: 0.3209\n",
      "Epoch 37/50\n",
      "1202739/1202739 [==============================] - 96s 79us/step - loss: 0.2173 - dense_5_loss: 0.2173 - concatenate_2_loss: 0.3260 - dense_5_root_mean_squared_error: 0.2173 - concatenate_2_root_mean_squared_error: 0.3260 - val_loss: 0.2313 - val_dense_5_loss: 0.2313 - val_concatenate_2_loss: 0.3254 - val_dense_5_root_mean_squared_error: 0.2313 - val_concatenate_2_root_mean_squared_error: 0.3254\n",
      "Epoch 38/50\n",
      "1202739/1202739 [==============================] - 96s 80us/step - loss: 0.2174 - dense_5_loss: 0.2174 - concatenate_2_loss: 0.3289 - dense_5_root_mean_squared_error: 0.2174 - concatenate_2_root_mean_squared_error: 0.3289 - val_loss: 0.2288 - val_dense_5_loss: 0.2288 - val_concatenate_2_loss: 0.3342 - val_dense_5_root_mean_squared_error: 0.2288 - val_concatenate_2_root_mean_squared_error: 0.3342\n",
      "Epoch 39/50\n",
      "1202739/1202739 [==============================] - 96s 79us/step - loss: 0.2171 - dense_5_loss: 0.2171 - concatenate_2_loss: 0.3295 - dense_5_root_mean_squared_error: 0.2171 - concatenate_2_root_mean_squared_error: 0.3295 - val_loss: 0.2276 - val_dense_5_loss: 0.2276 - val_concatenate_2_loss: 0.3363 - val_dense_5_root_mean_squared_error: 0.2276 - val_concatenate_2_root_mean_squared_error: 0.3363\n",
      "Epoch 40/50\n",
      "1202739/1202739 [==============================] - 95s 79us/step - loss: 0.2171 - dense_5_loss: 0.2171 - concatenate_2_loss: 0.3329 - dense_5_root_mean_squared_error: 0.2171 - concatenate_2_root_mean_squared_error: 0.3329 - val_loss: 0.2268 - val_dense_5_loss: 0.2268 - val_concatenate_2_loss: 0.3366 - val_dense_5_root_mean_squared_error: 0.2268 - val_concatenate_2_root_mean_squared_error: 0.3366\n"
     ]
    },
    {
     "name": "stdout",
     "output_type": "stream",
     "text": [
      "Epoch 41/50\n",
      "1202739/1202739 [==============================] - 96s 79us/step - loss: 0.2167 - dense_5_loss: 0.2167 - concatenate_2_loss: 0.3319 - dense_5_root_mean_squared_error: 0.2167 - concatenate_2_root_mean_squared_error: 0.3319 - val_loss: 0.2262 - val_dense_5_loss: 0.2262 - val_concatenate_2_loss: 0.3284 - val_dense_5_root_mean_squared_error: 0.2262 - val_concatenate_2_root_mean_squared_error: 0.3284\n",
      "Epoch 42/50\n",
      "1085440/1202739 [==========================>...] - ETA: 8s - loss: 0.2169 - dense_5_loss: 0.2169 - concatenate_2_loss: 0.3321 - dense_5_root_mean_squared_error: 0.2169 - concatenate_2_root_mean_squared_error: 0.3321"
     ]
    }
   ],
   "source": [
    "hist = modelRNN.fit(X_train,Y_train, batch_size=batch_size, epochs=epochs, validation_data=(X_test, Y_test),verbose=1)\n",
    "\n",
    "\n",
    "\n"
   ]
  },
  {
   "cell_type": "code",
   "execution_count": 9,
   "metadata": {},
   "outputs": [],
   "source": [
    "val_preds,rnn = modelRNN.predict(X_test)"
   ]
  },
  {
   "cell_type": "code",
   "execution_count": 26,
   "metadata": {},
   "outputs": [],
   "source": [
    "def rmse(y, y_pred):\n",
    "    y=y.flatten()\n",
    "    y_pred=y_pred.flatten()\n",
    "\n",
    "    Rsum = np.sum((y - y_pred)**2)\n",
    "    n = len(y)\n",
    "    RMSE = np.sqrt(Rsum/n)\n",
    "    return RMSE \n",
    "\n",
    "rmse(Y_test[0], val_preds)"
   ]
  },
  {
   "cell_type": "code",
   "execution_count": 18,
   "metadata": {},
   "outputs": [
    {
     "data": {
      "text/plain": [
       "numpy.ndarray"
      ]
     },
     "execution_count": 18,
     "metadata": {},
     "output_type": "execute_result"
    }
   ],
   "source": [
    "model.save(filepath)\n",
    "keras.models.load_model(filepath)"
   ]
  },
  {
   "cell_type": "code",
   "execution_count": 21,
   "metadata": {},
   "outputs": [
    {
     "data": {
      "text/plain": [
       "array([0.80323, 0.     , 0.10342, ..., 0.     , 0.     , 0.7376 ])"
      ]
     },
     "execution_count": 21,
     "metadata": {},
     "output_type": "execute_result"
    }
   ],
   "source": [
    "(Y_test[0])"
   ]
  },
  {
   "cell_type": "code",
   "execution_count": 23,
   "metadata": {},
   "outputs": [
    {
     "data": {
      "text/plain": [
       "array([0.18857522, 0.06045391, 0.16316088, ..., 0.1368806 , 0.123833  ,\n",
       "       0.39630845], dtype=float32)"
      ]
     },
     "execution_count": 23,
     "metadata": {},
     "output_type": "execute_result"
    }
   ],
   "source": [
    "val_preds.flatten()\n"
   ]
  },
  {
   "cell_type": "code",
   "execution_count": 27,
   "metadata": {},
   "outputs": [
    {
     "data": {
      "text/plain": [
       "0.2237126912997403"
      ]
     },
     "execution_count": 27,
     "metadata": {},
     "output_type": "execute_result"
    }
   ],
   "source": []
  },
  {
   "cell_type": "code",
   "execution_count": null,
   "metadata": {},
   "outputs": [],
   "source": []
  }
 ],
 "metadata": {
  "kernelspec": {
   "display_name": "Python 3",
   "language": "python",
   "name": "python3"
  },
  "language_info": {
   "codemirror_mode": {
    "name": "ipython",
    "version": 3
   },
   "file_extension": ".py",
   "mimetype": "text/x-python",
   "name": "python",
   "nbconvert_exporter": "python",
   "pygments_lexer": "ipython3",
   "version": "3.5.5"
  }
 },
 "nbformat": 4,
 "nbformat_minor": 2
}
