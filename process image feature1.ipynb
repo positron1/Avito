{
 "cells": [
  {
   "cell_type": "code",
   "execution_count": 1,
   "metadata": {},
   "outputs": [],
   "source": [
    "import numpy as np \n",
    "import pandas as pd \n",
    "import os\n",
    "import gc\n",
    "import psutil\n",
    "from ast import literal_eval as make_tuple"
   ]
  },
  {
   "cell_type": "code",
   "execution_count": 10,
   "metadata": {},
   "outputs": [
    {
     "data": {
      "text/html": [
       "<div>\n",
       "<style scoped>\n",
       "    .dataframe tbody tr th:only-of-type {\n",
       "        vertical-align: middle;\n",
       "    }\n",
       "\n",
       "    .dataframe tbody tr th {\n",
       "        vertical-align: top;\n",
       "    }\n",
       "\n",
       "    .dataframe thead th {\n",
       "        text-align: right;\n",
       "    }\n",
       "</style>\n",
       "<table border=\"1\" class=\"dataframe\">\n",
       "  <thead>\n",
       "    <tr style=\"text-align: right;\">\n",
       "      <th></th>\n",
       "      <th>indexs</th>\n",
       "      <th>average_colors</th>\n",
       "      <th>color_analysiss</th>\n",
       "      <th>size</th>\n",
       "    </tr>\n",
       "  </thead>\n",
       "  <tbody>\n",
       "    <tr>\n",
       "      <th>0</th>\n",
       "      <td>9328021359a7a5a71be710c209df1e09e714a03b6b4999...</td>\n",
       "      <td>(0.5388239379084967, 0.5911015341321716, 0.652...</td>\n",
       "      <td>(0.0, 0.0, 2.7957175925925926, 480, 360)</td>\n",
       "      <td>38103</td>\n",
       "    </tr>\n",
       "    <tr>\n",
       "      <th>1</th>\n",
       "      <td>7e62c599a436e745cda099fde53dfdc75d3c823589f056...</td>\n",
       "      <td>(0.3823481254020551, 0.6789032295898237, 0.696...</td>\n",
       "      <td>(0.0, 12.56, 3.9532354540511148, 613, 360)</td>\n",
       "      <td>56558</td>\n",
       "    </tr>\n",
       "    <tr>\n",
       "      <th>2</th>\n",
       "      <td>1223fd2c262fe3b6a74f3229f3635aa9cc6631e0e25eb2...</td>\n",
       "      <td>(0.26032353746096143, 0.38178076402974953, 0.6...</td>\n",
       "      <td>(0.0, 0.0, 2.1633825944170773, 203, 480)</td>\n",
       "      <td>23903</td>\n",
       "    </tr>\n",
       "    <tr>\n",
       "      <th>3</th>\n",
       "      <td>a7f4afb4033e1e6ec18aa19aa28a1f2a0eaf568c3a2d5c...</td>\n",
       "      <td>(0.6196739288307916, 0.6199389373033164, 0.619...</td>\n",
       "      <td>(14.32, 68.725, 0.8171296296296297, 360, 360)</td>\n",
       "      <td>12854</td>\n",
       "    </tr>\n",
       "    <tr>\n",
       "      <th>4</th>\n",
       "      <td>c3d9b7d5f0405f924c65104654f6c7272a5aaacf4b5baa...</td>\n",
       "      <td>(0.38358762254901974, 0.47671437000726213, 0.5...</td>\n",
       "      <td>(0.0, 35.96, 1.0127314814814814, 360, 480)</td>\n",
       "      <td>29568</td>\n",
       "    </tr>\n",
       "  </tbody>\n",
       "</table>\n",
       "</div>"
      ],
      "text/plain": [
       "                                              indexs  \\\n",
       "0  9328021359a7a5a71be710c209df1e09e714a03b6b4999...   \n",
       "1  7e62c599a436e745cda099fde53dfdc75d3c823589f056...   \n",
       "2  1223fd2c262fe3b6a74f3229f3635aa9cc6631e0e25eb2...   \n",
       "3  a7f4afb4033e1e6ec18aa19aa28a1f2a0eaf568c3a2d5c...   \n",
       "4  c3d9b7d5f0405f924c65104654f6c7272a5aaacf4b5baa...   \n",
       "\n",
       "                                      average_colors  \\\n",
       "0  (0.5388239379084967, 0.5911015341321716, 0.652...   \n",
       "1  (0.3823481254020551, 0.6789032295898237, 0.696...   \n",
       "2  (0.26032353746096143, 0.38178076402974953, 0.6...   \n",
       "3  (0.6196739288307916, 0.6199389373033164, 0.619...   \n",
       "4  (0.38358762254901974, 0.47671437000726213, 0.5...   \n",
       "\n",
       "                                 color_analysiss   size  \n",
       "0       (0.0, 0.0, 2.7957175925925926, 480, 360)  38103  \n",
       "1     (0.0, 12.56, 3.9532354540511148, 613, 360)  56558  \n",
       "2       (0.0, 0.0, 2.1633825944170773, 203, 480)  23903  \n",
       "3  (14.32, 68.725, 0.8171296296296297, 360, 360)  12854  \n",
       "4     (0.0, 35.96, 1.0127314814814814, 360, 480)  29568  "
      ]
     },
     "execution_count": 10,
     "metadata": {},
     "output_type": "execute_result"
    }
   ],
   "source": [
    "#path='E:\\\\kaggle\\\\Avito Demand Prediction Challenge\\\\image features\\\\image_train\\\\'\n",
    "path='E:\\\\kaggle\\\\Avito Demand Prediction Challenge\\\\image features\\\\image_test\\\\'\n",
    "filelist=os.listdir(path)\n",
    "data=[]\n",
    "for file in filelist:\n",
    "    tempdata=pd.read_csv(path+file,header=0)\n",
    "    if len(data)==0:\n",
    "        data=tempdata\n",
    "    else:\n",
    "        data = pd.concat([data,tempdata],ignore_index=True)    \n",
    "    del tempdata\n",
    "    gc.collect()    \n",
    "data.head()"
   ]
  },
  {
   "cell_type": "code",
   "execution_count": null,
   "metadata": {
    "scrolled": true
   },
   "outputs": [
    {
     "name": "stdout",
     "output_type": "stream",
     "text": [
      "Count is 0 k\n"
     ]
    }
   ],
   "source": [
    "#data[['avg_r','avg_g','avg_b','blurrness']] = data.average_colors.apply(pd.Series)\n",
    "#data[['dullness','whiteness','avg_pixel_width','width','height']] = pd.DataFrame(data.color_analysiss.values.tolist(), index=data.index)\n",
    "indexs=[]\n",
    "avg_r,avg_g,avg_b,blurrness=[],[],[],[]\n",
    "dullness,whiteness,avg_pixel_width,width,height=[],[],[],[],[]\n",
    "size=[]\n",
    "\n",
    "for i in range(len(data)):\n",
    "    temp1=data.loc[i,'average_colors']\n",
    "    temp2=data.loc[i,'color_analysiss']\n",
    "    \n",
    "    indexs.append(data.loc[i,'indexs'])\n",
    "    \n",
    "    try:\n",
    "        temp1=make_tuple(temp1)        \n",
    "        avg_r.append(temp1[0])\n",
    "        avg_g.append(temp1[1])\n",
    "        avg_b.append(temp1[2])\n",
    "        blurrness.append(temp1[3])      \n",
    "        size.append(data.loc[i,'size'])\n",
    "    except:\n",
    "        avg_r.append(None)\n",
    "        avg_g.append(None)\n",
    "        avg_b.append(None)\n",
    "        blurrness.append(None)      \n",
    "        size.append(None)\n",
    "        print ('1. Cannot identify image file',data.loc[i,'indexs'])\n",
    "        \n",
    "    try:\n",
    "        temp2=make_tuple(temp2)\n",
    "        dullness.append(temp2[0])\n",
    "        whiteness.append(temp2[1])\n",
    "        avg_pixel_width.append(temp2[2])\n",
    "        width.append(temp2[3])\n",
    "        height.append(temp2[4])\n",
    "    except:\n",
    "        dullness.append(None)\n",
    "        whiteness.append(None)\n",
    "        avg_pixel_width.append(None)\n",
    "        width.append(None)\n",
    "        height.append(None)\n",
    "        print ('2. Cannot identify image file',data.loc[i,'indexs'])\n",
    "        \n",
    "    if (i%100000)==0:\n",
    "        print ('Count is',int(i/1000),'k')\n",
    "        \n",
    "result = {'indexs':indexs,'avg_r': avg_r, 'avg_g': avg_g, 'avg_b':avg_b, 'blurrness':blurrness, \n",
    "          'dullness':dullness, 'whiteness':whiteness, 'avg_pixel_width':avg_pixel_width, 'width':width, 'height':height,\n",
    "         'size':size}\n",
    "result = pd.DataFrame(data=result)\n",
    "result['dullness']=result['dullness']/100.0\n",
    "result['whiteness']=result['whiteness']/100.0\n",
    "result['avg_r']=round(result['avg_r'],4)\n",
    "result['avg_g']=round(result['avg_g'],4)\n",
    "result['avg_b']=round(result['avg_b'],4)\n",
    "result['blurrness']=round(result['blurrness'],4)\n",
    "result['dullness']=round(result['dullness'],4)\n",
    "result['whiteness']=round(result['whiteness'],4)\n",
    "result['avg_pixel_width']=round(result['avg_pixel_width'],4)\n",
    "#result['width']=result['width'].astype(int)\n",
    "#result['height']=result['height'].astype(int)\n",
    "#result['size']=result['size'].astype(int)\n",
    "\n",
    "columns=['indexs','avg_r','avg_g','avg_b','blurrness','dullness','whiteness','avg_pixel_width','width','height','size']\n",
    "result=result[columns]\n",
    "\n",
    "result.to_csv('imagefeature_test_g.csv', index=False) \n",
    "result\n"
   ]
  },
  {
   "cell_type": "code",
   "execution_count": 6,
   "metadata": {},
   "outputs": [],
   "source": [
    "temp=data.loc[1,'average_colors']"
   ]
  },
  {
   "cell_type": "code",
   "execution_count": 11,
   "metadata": {},
   "outputs": [],
   "source": []
  },
  {
   "cell_type": "code",
   "execution_count": 19,
   "metadata": {},
   "outputs": [],
   "source": [
    "temp=\"(None,None)\"\n",
    "temp=make_tuple(temp)\n"
   ]
  },
  {
   "cell_type": "code",
   "execution_count": 14,
   "metadata": {},
   "outputs": [
    {
     "data": {
      "text/plain": [
       "float"
      ]
     },
     "execution_count": 14,
     "metadata": {},
     "output_type": "execute_result"
    }
   ],
   "source": [
    "type(temp[2])"
   ]
  },
  {
   "cell_type": "code",
   "execution_count": 20,
   "metadata": {},
   "outputs": [
    {
     "data": {
      "text/plain": [
       "(None, None)"
      ]
     },
     "execution_count": 20,
     "metadata": {},
     "output_type": "execute_result"
    }
   ],
   "source": [
    "temp"
   ]
  },
  {
   "cell_type": "code",
   "execution_count": null,
   "metadata": {},
   "outputs": [],
   "source": []
  }
 ],
 "metadata": {
  "kernelspec": {
   "display_name": "Python 3",
   "language": "python",
   "name": "python3"
  },
  "language_info": {
   "codemirror_mode": {
    "name": "ipython",
    "version": 3
   },
   "file_extension": ".py",
   "mimetype": "text/x-python",
   "name": "python",
   "nbconvert_exporter": "python",
   "pygments_lexer": "ipython3",
   "version": "3.5.5"
  }
 },
 "nbformat": 4,
 "nbformat_minor": 2
}
